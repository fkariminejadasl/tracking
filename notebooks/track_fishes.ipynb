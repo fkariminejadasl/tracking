{
  "nbformat": 4,
  "nbformat_minor": 0,
  "metadata": {
    "colab": {
      "provenance": [],
      "gpuType": "T4",
      "include_colab_link": true
    },
    "kernelspec": {
      "name": "python3",
      "display_name": "Python 3"
    },
    "language_info": {
      "name": "python"
    },
    "accelerator": "GPU"
  },
  "cells": [
    {
      "cell_type": "markdown",
      "metadata": {
        "id": "view-in-github",
        "colab_type": "text"
      },
      "source": [
        "<a href=\"https://colab.research.google.com/github/fkariminejadasl/tracking/blob/main/notebooks/track_fishes.ipynb\" target=\"_parent\"><img src=\"https://colab.research.google.com/assets/colab-badge.svg\" alt=\"Open In Colab\"/></a>"
      ]
    },
    {
      "cell_type": "markdown",
      "source": [
        "# Data\n",
        "The data can be dragged and dropped. Then, modify the `/content/tracking/configs/track.yaml` file.\n",
        "\n",
        "Alternatively, you can copy your data using other methods:\n",
        "```bash\n",
        "# Method 1: Using the share option and copying the link. There is a file identifier in the link. For example: https://drive.google.com/file/d/file_id/view?usp=drive_link\n",
        "!pip install -U gdown requests\n",
        "!gdown file_id --output /content/\n",
        "# Method 2: Mount the entire Google Drive. This option is not recommended. The mounted location is: /content/drive/MyDrive\n",
        "from google.colab import drive\n",
        "drive.mount(\"/content/drive\")\n",
        "```"
      ],
      "metadata": {
        "id": "C3RL6shaBI-x"
      }
    },
    {
      "cell_type": "code",
      "source": [
        "# since sometimes drang and drop was slow I downloaded the data in this way.\n",
        "!pip install -U gdown requests==2.31.0\n",
        "!gdown 1BWLKXrpwqusfqu_I9zlGd7HDZ2RaYAue --output /content/\n",
        "!gdown 1Z1n255Zhc0kpLTAfeCeO3uVQ2faftffs --output /content/"
      ],
      "metadata": {
        "id": "Ujo4spLi86Ah",
        "colab": {
          "base_uri": "https://localhost:8080/"
        },
        "outputId": "fbafc410-9edf-4335-9287-72089dfe6c3f"
      },
      "execution_count": 2,
      "outputs": [
        {
          "output_type": "stream",
          "name": "stdout",
          "text": [
            "Downloading...\n",
            "From: https://drive.google.com/uc?id=1BWLKXrpwqusfqu_I9zlGd7HDZ2RaYAue\n",
            "To: /content/2.mp4\n",
            "100% 94.7M/94.7M [00:00<00:00, 103MB/s]\n",
            "Downloading...\n",
            "From: https://drive.google.com/uc?id=1Z1n255Zhc0kpLTAfeCeO3uVQ2faftffs\n",
            "To: /content/det_best_bgr29.pt\n",
            "100% 22.7M/22.7M [00:00<00:00, 97.5MB/s]\n"
          ]
        }
      ]
    },
    {
      "cell_type": "markdown",
      "source": [
        "# Install"
      ],
      "metadata": {
        "id": "FtgT_TR-xEqh"
      }
    },
    {
      "cell_type": "code",
      "execution_count": null,
      "metadata": {
        "id": "0v2_iAuzuu5O"
      },
      "outputs": [],
      "source": [
        "%cd /content\n",
        "!git clone https://github.com/fkariminejadasl/tracking\n",
        "%cd /content/tracking\n",
        "#!git checkout branch"
      ]
    },
    {
      "cell_type": "code",
      "source": [
        "!pip install -r requirements.txt\n",
        "!pip install -e ."
      ],
      "metadata": {
        "id": "FFrUKiwkvAzj"
      },
      "execution_count": null,
      "outputs": []
    },
    {
      "cell_type": "markdown",
      "source": [
        "#### The code can be aslo installed as below, without previous steps.\n",
        "```\n",
        "# branch name: main\n",
        "!pip install -r https://github.com/fkariminejadasl/tracking/raw/branch_name/requirements.txt\n",
        "!pip install git+https://github.com/fkariminejadasl/tracking@branch_name\n",
        "```"
      ],
      "metadata": {
        "id": "fmkxmAL7Bflf"
      }
    },
    {
      "cell_type": "markdown",
      "source": [
        "# Run"
      ],
      "metadata": {
        "id": "Oq4pk4onxTK6"
      }
    },
    {
      "cell_type": "markdown",
      "source": [
        "The track results are saved in `save_path/track_method_save_name/mots`. If detections are also done, they are saved under yolov8/*zip. You can find values in /content/tracking/configs/track.yaml."
      ],
      "metadata": {
        "id": "Q_VsE1_7wH3n"
      }
    },
    {
      "cell_type": "code",
      "source": [
        "!python /content/tracking/scripts/track_fishes.py /content/tracking/configs/track.yaml"
      ],
      "metadata": {
        "id": "Lw1dFQ-PwUeO",
        "colab": {
          "base_uri": "https://localhost:8080/"
        },
        "outputId": "4741d311-f97c-4403-9362-f4d29ff0bbb0"
      },
      "execution_count": 10,
      "outputs": [
        {
          "output_type": "stream",
          "name": "stdout",
          "text": [
            "det_checkpoint: /content/det_best_bgr29.pt\n",
            "save_path: /content\n",
            "video_path: /content/2.mp4\n",
            "dets_path: None\n",
            "save_name: exp1\n",
            "start_frame: 0\n",
            "end_frame: None\n",
            "step: 8\n",
            "track_method: ms\n",
            "track_config_file: None\n",
            "2\n",
            "=====> Detection\n",
            "100% 3117/3117 [00:57<00:00, 54.07it/s]\n",
            "=====> ms tracking\n",
            "/content/yolov8/2_dets.zip <class 'pathlib.PosixPath'> True\n",
            "  0% 0/3117 [00:00<?, ?it/s]/usr/local/lib/python3.10/dist-packages/torch/nn/modules/conv.py:456: UserWarning: Plan failed with a cudnnException: CUDNN_BACKEND_EXECUTION_PLAN_DESCRIPTOR: cudnnFinalize Descriptor Failed cudnn_status: CUDNN_STATUS_NOT_SUPPORTED (Triggered internally at ../aten/src/ATen/native/cudnn/Conv_v8.cpp:919.)\n",
            "  return F.conv2d(input, weight, bias, self.stride,\n",
            "100% 3117/3117 [01:08<00:00, 45.19it/s]\n"
          ]
        }
      ]
    }
  ]
}