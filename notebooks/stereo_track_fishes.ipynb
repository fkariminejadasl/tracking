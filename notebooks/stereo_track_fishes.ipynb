{
  "nbformat": 4,
  "nbformat_minor": 0,
  "metadata": {
    "colab": {
      "provenance": [],
      "include_colab_link": true
    },
    "kernelspec": {
      "name": "python3",
      "display_name": "Python 3"
    },
    "language_info": {
      "name": "python"
    }
  },
  "cells": [
    {
      "cell_type": "markdown",
      "metadata": {
        "id": "view-in-github",
        "colab_type": "text"
      },
      "source": [
        "<a href=\"https://colab.research.google.com/github/fkariminejadasl/tracking/blob/main/notebooks/stereo_track_fishes.ipynb\" target=\"_parent\"><img src=\"https://colab.research.google.com/assets/colab-badge.svg\" alt=\"Open In Colab\"/></a>"
      ]
    },
    {
      "cell_type": "markdown",
      "source": [
        "# Data\n",
        "The data can be dragged and dropped. Then, modify the `/content/tracking/configs/stereo_track.yaml` file.\n",
        "\n",
        "Alternatively, you can copy your data using other methods:\n",
        "```bash\n",
        "# Method 1: Using the share option and copying the link. There is a file identifier in the link. For example: https://drive.google.com/file/d/file_id/view?usp=drive_link\n",
        "!pip install -U gdown requests\n",
        "!gdown file_id --output /content/\n",
        "# Method 2: Mount the entire Google Drive. This option is not recommended. The mounted location is: /content/drive/MyDrive\n",
        "from google.colab import drive\n",
        "drive.mount(\"/content/drive\")\n",
        "```"
      ],
      "metadata": {
        "id": "FbQNr9Xd8Jca"
      }
    },
    {
      "cell_type": "code",
      "source": [
        "# since sometimes drang and drop was slow I downloaded the data in this way.\n",
        "!pip install -U gdown requests==2.31.0\n",
        "!gdown 1_WHaVmEyZ2GhmBDtSLkMiexq5HN4pm8S --output /content/ # vid1\n",
        "!gdown 1UFPDNjsgWOp5UwM2fV5-wnpNNKEaO1Kn --output /content/ # vid2\n",
        "!gdown 1TiXfrfg2pW-9b0bjwo_cEGcvU4vh_0Sn --output /content/ # mot1\n",
        "!gdown 1wgQ0keA43vwNHsgGDV_cjGzYpMjfT5OD --output /content/ # mot2\n",
        "!gdown 1wufd_NVjx-eTv6d7WifujbT5BZoFXCmT --output /content/ # mat"
      ],
      "metadata": {
        "id": "j_aNeYqNlNoK"
      },
      "execution_count": null,
      "outputs": []
    },
    {
      "cell_type": "markdown",
      "source": [
        "# Install"
      ],
      "metadata": {
        "id": "I4R85F6Ou2rs"
      }
    },
    {
      "cell_type": "code",
      "execution_count": null,
      "metadata": {
        "id": "0v2_iAuzuu5O"
      },
      "outputs": [],
      "source": [
        "%cd /content\n",
        "!git clone https://github.com/fkariminejadasl/tracking\n",
        "%cd /content/tracking\n",
        "# !git checkout multi_view_tracking"
      ]
    },
    {
      "cell_type": "code",
      "source": [
        "!pip install -r requirements.txt\n",
        "!pip install -e ."
      ],
      "metadata": {
        "id": "FFrUKiwkvAzj"
      },
      "execution_count": null,
      "outputs": []
    },
    {
      "cell_type": "markdown",
      "source": [
        "#### The code can be aslo installed as below, without previous steps.\n",
        "```\n",
        "# branch name: main\n",
        "!pip install -r https://github.com/fkariminejadasl/tracking/raw/branch_name/requirements.txt\n",
        "!pip install git+https://github.com/fkariminejadasl/tracking@branch_name\n",
        "```"
      ],
      "metadata": {
        "id": "sS_qcBTm-shi"
      }
    },
    {
      "cell_type": "markdown",
      "source": [
        "# Run\n",
        "The result is saved as a video file in save_video_file where it defined in `/content/tracking/configs/stereo_track.yaml`, default is stereo.mp4."
      ],
      "metadata": {
        "id": "Pl_O5T-tvHCs"
      }
    },
    {
      "cell_type": "code",
      "source": [
        "!python /content/tracking/scripts/stereo_track_fishes.py /content/tracking/configs/stereo_track.yaml"
      ],
      "metadata": {
        "id": "Lw1dFQ-PwUeO"
      },
      "execution_count": null,
      "outputs": []
    }
  ]
}